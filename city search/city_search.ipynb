{
 "cells": [
  {
   "cell_type": "code",
   "execution_count": null,
   "id": "85c0ab14-f5d7-4f4b-b2fe-6529d1113d45",
   "metadata": {},
   "outputs": [],
   "source": [
    "import os\n",
    "import langchain\n",
    "from langchain.llms import OpenAI\n",
    "from langchain.chains import LLMChain\n",
    "from langchain.chains import SimpleSequentialChain\n",
    "from langchain.chains import SequentialChain\n",
    "\n",
    "os.environ['OPENAI_API_KEY']='sk-'\n",
    "llm=OpenAI(temperature=0.6)\n",
    "\n",
    "llm=OpenAI(temperature=0.3)\n",
    "prompt_country=PromptTemplate(\n",
    "    input_variables=['country'],\n",
    "    template='suggest me 1 city name only which are best in {country} as tourist destinations'\n",
    ")\n",
    "\n",
    "city_chain=LLMChain(llm=llm,prompt=prompt_country,output_key='city')\n",
    "\n",
    "prompt_city=PromptTemplate(\n",
    "    input_variables=['city'],\n",
    "    template='suggest me 3 beach names only which are best in {city} as tourist destinations'\n",
    ")\n",
    "\n",
    "beach_chain=LLMChain(llm=llm,prompt=prompt_city,output_key='beach')\n",
    "\n",
    "citybeach=SequentialChain(chains=[city_chain,beach_chain],input_variables=['country'],output_variables=['city','beach'])\n",
    "\n",
    "result=citybeach({'country':country})\n",
    "result"
   ]
  }
 ],
 "metadata": {
  "kernelspec": {
   "display_name": "Python 3 (ipykernel)",
   "language": "python",
   "name": "python3"
  },
  "language_info": {
   "codemirror_mode": {
    "name": "ipython",
    "version": 3
   },
   "file_extension": ".py",
   "mimetype": "text/x-python",
   "name": "python",
   "nbconvert_exporter": "python",
   "pygments_lexer": "ipython3",
   "version": "3.11.5"
  }
 },
 "nbformat": 4,
 "nbformat_minor": 5
}
